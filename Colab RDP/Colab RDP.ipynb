{
  "nbformat": 4,
  "nbformat_minor": 0,
  "metadata": {
    "colab": {
      "name": "Colab RDP.ipynb",
      "provenance": [],
      "collapsed_sections": [],
      "toc_visible": true,
      "include_colab_link": true
    },
    "kernelspec": {
      "name": "python3",
      "display_name": "Python 3"
    }
  },
  "cells": [
    {
      "cell_type": "markdown",
      "metadata": {
        "id": "view-in-github",
        "colab_type": "text"
      },
      "source": [
        "<a href=\"https://colab.research.google.com/github/madhavsharmaofficial/madhavsharmaofficial/blob/main/Colab%20RDP/Colab%20RDP.ipynb\" target=\"_parent\"><img src=\"https://colab.research.google.com/assets/colab-badge.svg\" alt=\"Open In Colab\"/></a>"
      ]
    },
    {
      "cell_type": "markdown",
      "metadata": {
        "id": "iLh_9SkSut4u"
      },
      "source": [
        "# **Colab RDP** : Remote Desktop to Colab Instance\n",
        "\n",
        "> **Warning : Not for Cryptocurrency Mining<br></br>** \n",
        ">**Why are hardware resources such as T4 GPUs not available to me?** The best available hardware is prioritized for users who use Colaboratory interactively rather than for long-running computations. Users who use Colaboratory for long-running computations may be temporarily restricted in the type of hardware made available to them, and/or the duration that the hardware can be used for. We encourage users with high computational needs to use Colaboratory’s UI with a local runtime. Please note that using Colaboratory for cryptocurrency mining is disallowed entirely, and may result in being banned from using Colab altogether.\n",
        "\n",
        "Google Colab can give you Instance with 12GB of RAM and GPU for 12 hours (Max.) for Free users. Anyone can use it to perform Heavy Tasks.\n",
        "\n",
        "To use other similiar Notebooks use my Repository **[Colab Hacks](https://github.com/PradyumnaKrishna/Colab-Hacks)**"
      ]
    },
    {
      "cell_type": "code",
      "metadata": {
        "id": "t4yNp3KmLtZ6",
        "cellView": "form",
        "colab": {
          "base_uri": "https://localhost:8080/"
        },
        "outputId": "db5e8d6d-afe2-4aa3-e2fa-02959b5a81af"
      },
      "source": [
        "#@title **Create User**\n",
        "#@markdown Enter Username and Password\n",
        "\n",
        "import os\n",
        "\n",
        "username = \"user\" #@param {type:\"string\"}\n",
        "password = \"root\" #@param {type:\"string\"}\n",
        "\n",
        "print(\"Creating User and Setting it up\")\n",
        "\n",
        "# Creation of user\n",
        "os.system(f\"useradd -m {username}\")\n",
        "\n",
        "# Add user to sudo group\n",
        "os.system(f\"adduser {username} sudo\")\n",
        "    \n",
        "# Set password of user to 'root'\n",
        "os.system(f\"echo '{username}:{password}' | sudo chpasswd\")\n",
        "\n",
        "# Change default shell from sh to bash\n",
        "os.system(\"sed -i 's/\\/bin\\/sh/\\/bin\\/bash/g' /etc/passwd\")\n",
        "\n",
        "print(\"User Created and Configured\")"
      ],
      "execution_count": 23,
      "outputs": [
        {
          "output_type": "stream",
          "text": [
            "Creating User and Setting it up\n",
            "User Created and Configured\n"
          ],
          "name": "stdout"
        }
      ]
    },
    {
      "cell_type": "code",
      "metadata": {
        "id": "Q6bl1b0EifVG",
        "cellView": "form",
        "colab": {
          "base_uri": "https://localhost:8080/"
        },
        "outputId": "7332ea5d-3608-41d3-f467-b2c3c5ac433c"
      },
      "source": [
        "#@title **RDP**\n",
        "#@markdown  It takes 4-5 minutes for installation\n",
        "\n",
        "import os\n",
        "import subprocess\n",
        "\n",
        "#@markdown  Visit http://remotedesktop.google.com/headless and Copy the command after authentication\n",
        "\n",
        "CRP = \"DISPLAY= /opt/google/chrome-remote-desktop/start-host --code=\\\"4/0AX4XfWgw20fa25KZhO9ABU5h8FmYa6gUXWpiuQbk128H_AXG3k1BpMoa8VnMgd4w3H0WJQ\\\" --redirect-url=\\\"https://remotedesktop.google.com/_/oauthredirect\\\" --name=$(hostname)\" #@param {type:\"string\"}\n",
        "\n",
        "#@markdown Enter a pin more or equal to 6 digits\n",
        "Pin =  761256#@param {type: \"integer\"}\n",
        "\n",
        "\n",
        "class CRD:\n",
        "    def __init__(self):\n",
        "        os.system(\"apt update\")\n",
        "        self.installCRD()\n",
        "        self.installDesktopEnvironment()\n",
        "        self.installGoogleChorme()\n",
        "        self.finish()\n",
        "\n",
        "    @staticmethod\n",
        "    def installCRD():\n",
        "        print(\"Installing Chrome Remote Desktop\")\n",
        "        subprocess.run(['wget', 'https://dl.google.com/linux/direct/chrome-remote-desktop_current_amd64.deb'], stdout=subprocess.PIPE)\n",
        "        subprocess.run(['dpkg', '--install', 'chrome-remote-desktop_current_amd64.deb'], stdout=subprocess.PIPE)\n",
        "        subprocess.run(['apt', 'install', '--assume-yes', '--fix-broken'], stdout=subprocess.PIPE)\n",
        "\n",
        "    @staticmethod\n",
        "    def installDesktopEnvironment():\n",
        "        print(\"Installing Desktop Environment\")\n",
        "        os.system(\"export DEBIAN_FRONTEND=noninteractive\")\n",
        "        os.system(\"apt install --assume-yes xfce4 desktop-base xfce4-terminal\")\n",
        "        os.system(\"bash -c 'echo \\\"exec /etc/X11/Xsession /usr/bin/xfce4-session\\\" > /etc/chrome-remote-desktop-session'\")\n",
        "        os.system(\"apt remove --assume-yes gnome-terminal\")\n",
        "        os.system(\"apt install --assume-yes xscreensaver\")\n",
        "        os.system(\"systemctl disable lightdm.service\")\n",
        "\n",
        "    @staticmethod\n",
        "    def installGoogleChorme():\n",
        "        print(\"Installing Google Chrome\")\n",
        "        subprocess.run([\"wget\", \"https://dl.google.com/linux/direct/google-chrome-stable_current_amd64.deb\"], stdout=subprocess.PIPE)\n",
        "        subprocess.run([\"dpkg\", \"--install\", \"google-chrome-stable_current_amd64.deb\"], stdout=subprocess.PIPE)\n",
        "        subprocess.run(['apt', 'install', '--assume-yes', '--fix-broken'], stdout=subprocess.PIPE)\n",
        "\n",
        "    @staticmethod\n",
        "    def finish():\n",
        "        print(\"Finalizing\")\n",
        "        os.system(f\"adduser {username} chrome-remote-desktop\")\n",
        "        command = f\"{CRP} --pin={Pin}\"\n",
        "        os.system(f\"su - {username} -c '{command}'\")\n",
        "        os.system(\"service chrome-remote-desktop start\")\n",
        "        print(\"Finished Succesfully\")\n",
        "\n",
        "\n",
        "try:\n",
        "    if username:\n",
        "        if CRP == \"\":\n",
        "            print(\"Please enter authcode from the given link\")\n",
        "        elif len(str(Pin)) < 6:\n",
        "            print(\"Enter a pin more or equal to 6 digits\")\n",
        "        else:\n",
        "            CRD()\n",
        "except NameError as e:\n",
        "    print(\"username variable not found\")\n",
        "    print(\"Create a User First\")"
      ],
      "execution_count": 24,
      "outputs": [
        {
          "output_type": "stream",
          "text": [
            "Installing Chrome Remote Desktop\n",
            "Installing Desktop Environment\n",
            "Installing Google Chrome\n",
            "Finalizing\n",
            "Finished Succesfully\n"
          ],
          "name": "stdout"
        }
      ]
    },
    {
      "cell_type": "code",
      "metadata": {
        "id": "vk2qtOTGIFsQ",
        "cellView": "form",
        "colab": {
          "base_uri": "https://localhost:8080/"
        },
        "outputId": "e7d3e612-e973-4302-b4cf-05fac061f17f"
      },
      "source": [
        "#@title **Google Drive Mount**\n",
        "#@markdown Google Drive used as Persistance HDD for files.<br>\n",
        "#@markdown Mounted at `user` Home directory inside drive folder\n",
        "#@markdown (If `username` variable not defined then use root as default).\n",
        "\n",
        "def MountGDrive():\n",
        "    from google.colab import drive\n",
        "\n",
        "    ! runuser -l $user -c \"yes | python3 -m pip install --user google-colab\"  > /dev/null 2>&1\n",
        "\n",
        "    mount = \"\"\"from os import environ as env\n",
        "from google.colab import drive\n",
        "\n",
        "env['CLOUDSDK_CONFIG']  = '/content/.config'\n",
        "drive.mount('{}')\"\"\".format(mountpoint)\n",
        "\n",
        "    with open('/content/mount.py', 'w') as script:\n",
        "        script.write(mount)\n",
        "\n",
        "    ! runuser -l $user -c \"python3 /content/mount.py\"\n",
        "\n",
        "try:\n",
        "    if username:\n",
        "        mountpoint = \"/home/\"+username+\"/drive\"\n",
        "        user = username\n",
        "except NameError:\n",
        "    print(\"username variable not found, mounting at `/content/drive' using `root'\")\n",
        "    mountpoint = '/content/drive'\n",
        "    user = 'root'\n",
        "\n",
        "MountGDrive()"
      ],
      "execution_count": 25,
      "outputs": [
        {
          "output_type": "stream",
          "text": [
            "Mounted at /home/user/drive\n"
          ],
          "name": "stdout"
        }
      ]
    },
    {
      "cell_type": "code",
      "metadata": {
        "id": "8icuQYnyKDLk",
        "cellView": "form",
        "colab": {
          "base_uri": "https://localhost:8080/"
        },
        "outputId": "c7f0231e-85fa-4346-a21c-0b702eb2eb27"
      },
      "source": [
        "#@title **SSH**\n",
        "\n",
        "! pip install colab_ssh --upgrade &> /dev/null\n",
        "\n",
        "Ngrok = True #@param {type:'boolean'}\n",
        "Agro = False #@param {type:'boolean'}\n",
        "\n",
        "\n",
        "#@markdown Copy authtoken from https://dashboard.ngrok.com/auth (only for ngrok)\n",
        "ngrokToken = \"1wVOxrNj4JXnuu38kOUPOoiLFPk_3Q9qNREYopvxTczm4EtCi\" #@param {type:'string'}\n",
        "\n",
        "\n",
        "def runNGROK():\n",
        "    from colab_ssh import launch_ssh\n",
        "    from IPython.display import clear_output\n",
        "    launch_ssh(ngrokToken, password)\n",
        "    clear_output()\n",
        "\n",
        "    print(\"ssh\", username, end='@')\n",
        "    ! curl -s http://localhost:4040/api/tunnels | python3 -c \\\n",
        "            \"import sys, json; print(json.load(sys.stdin)['tunnels'][0]['public_url'][6:].replace(':', ' -p '))\"\n",
        "\n",
        "\n",
        "def runAgro():\n",
        "    from colab_ssh import launch_ssh_cloudflared\n",
        "    launch_ssh_cloudflared(password=password)\n",
        "\n",
        "\n",
        "try:\n",
        "    if username:\n",
        "        pass\n",
        "    elif password:\n",
        "        pass\n",
        "except NameError:\n",
        "    print(\"No user found using username and password as 'root'\")\n",
        "    username='root'\n",
        "    password='root'\n",
        "\n",
        "\n",
        "if Agro and Ngrok:\n",
        "    print(\"You can't do that\")\n",
        "    print(\"Select only one of them\")\n",
        "elif Agro:\n",
        "    runAgro()\n",
        "elif Ngrok:\n",
        "    if ngrokToken == \"\":\n",
        "        print(\"No ngrokToken Found, Please enter it\")\n",
        "    else:\n",
        "        runNGROK()\n",
        "else:\n",
        "    print(\"Select one of them\")"
      ],
      "execution_count": 27,
      "outputs": [
        {
          "output_type": "stream",
          "text": [
            "ssh user@2.tcp.ngrok.io -p 10426\n"
          ],
          "name": "stdout"
        }
      ]
    },
    {
      "cell_type": "code",
      "metadata": {
        "cellView": "form",
        "id": "OXsG6_pxeEFu",
        "colab": {
          "base_uri": "https://localhost:8080/"
        },
        "outputId": "7eaaf87c-113b-461e-d67b-4ae5333a9668"
      },
      "source": [
        "#@title Package Installer { vertical-output: true }\n",
        "run = True #@param {type:\"boolean\"}\n",
        "#@markdown *Package management actions (gasp)*\n",
        "action = \"Install\" #@param [\"Install\", \"Check Installed\", \"Remove\"] {allow-input: true}\n",
        "\n",
        "package = \"wget\" #@param {type:\"string\"}\n",
        "system = \"apt\" #@param [\"apt\", \"\"]\n",
        "\n",
        "def install(package=package, system=system):\n",
        "  if system == \"apt\":\n",
        "    !apt --fix-broken install > /dev/null 2>&1\n",
        "    !killall apt > /dev/null 2>&1\n",
        "    !rm /var/lib/dpkg/lock-frontend\n",
        "    !dpkg --configure -a > /dev/null 2>&1\n",
        "\n",
        "    !apt-get  install -o Dpkg::Options::=\"--force-confold\" --no-install-recommends -y $package\n",
        "    \n",
        "    !dpkg --configure -a > /dev/null 2>&1 \n",
        "    !apt  update > /dev/null 2>&1\n",
        "\n",
        "    !apt install $package > /dev/null 2>&1\n",
        "\n",
        "def check_installed(package=package, system=system):\n",
        "  if system == \"apt\":\n",
        "    !apt list --installed | grep $package\n",
        "\n",
        "def remove(package=package, system=system):\n",
        "  if system == \"apt\":\n",
        "    !apt remove $package\n",
        "\n",
        "if run:\n",
        "  if action == \"Install\":\n",
        "    install()\n",
        "  if action == \"Check Installed\":\n",
        "    check_installed()\n",
        "  if action == \"Remove\":\n",
        "    remove()"
      ],
      "execution_count": 28,
      "outputs": [
        {
          "output_type": "stream",
          "text": [
            "Reading package lists... Done\n",
            "Building dependency tree       \n",
            "Reading state information... Done\n",
            "wget is already the newest version (1.19.4-1ubuntu2.2).\n",
            "The following packages were automatically installed and are no longer required:\n",
            "  aspell aspell-en enchant gnome-terminal-data gstreamer1.0-gl\n",
            "  gstreamer1.0-plugins-good gstreamer1.0-pulseaudio gstreamer1.0-x\n",
            "  hunspell-en-us libaa1 libaspell15 libbrotli1 libdv4 libenchant1c2a\n",
            "  libgraphene-1.0-0 libgstreamer-gl1.0-0 libgstreamer-plugins-good1.0-0\n",
            "  libhunspell-1.6-0 libhyphen0 libjavascriptcoregtk-4.0-18\n",
            "  libnautilus-extension1a libshout3 libtag1v5 libtag1v5-vanilla libv4l-0\n",
            "  libv4lconvert0 libwebkit2gtk-4.0-37 libwoff1 libyelp0 yelp yelp-xsl\n",
            "Use 'apt autoremove' to remove them.\n",
            "0 upgraded, 0 newly installed, 0 to remove and 6 not upgraded.\n"
          ],
          "name": "stdout"
        }
      ]
    },
    {
      "cell_type": "code",
      "metadata": {
        "id": "UoeBdz6_KE6a",
        "cellView": "form"
      },
      "source": [
        "#@title **Colab Shutdown**\n",
        "\n",
        "#@markdown To Kill NGROK Tunnel\n",
        "NGROK = False #@param {type:'boolean'}\n",
        "\n",
        "#@markdown To Unmount GDrive\n",
        "GDrive = False #@param {type:'boolean'}\n",
        "\n",
        "#@markdown To Sleep Colab\n",
        "Sleep = True #@param {type:'boolean'}\n",
        "\n",
        "if NGROK:\n",
        "    ! killall ngrok\n",
        "\n",
        "if GDrive:\n",
        "    with open('/content/unmount.py', 'w') as unmount:\n",
        "        unmount.write(\"\"\"from google.colab import drive\n",
        "drive.flush_and_unmount()\"\"\")\n",
        "    \n",
        "    try:\n",
        "        if user:\n",
        "            ! runuser $user -c 'python3 /content/unmount.py'\n",
        "    except NameError:\n",
        "        print(\"Google Drive not Mounted\")\n",
        "\n",
        "if Sleep:\n",
        "    from time import sleep\n",
        "    sleep(43200)"
      ],
      "execution_count": null,
      "outputs": []
    }
  ]
}